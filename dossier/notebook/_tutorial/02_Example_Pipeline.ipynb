{
 "cells": [
  {
   "cell_type": "markdown",
   "metadata": {},
   "source": [
    "<img src=\"_media/logo_stellantis.png\" width=\"300\">\n",
    "\n",
    "<font size=\"+3\"><b><center>Tutorial 02: Example pipeline</center></b></font>"
   ]
  },
  {
   "cell_type": "markdown",
   "metadata": {},
   "source": [
    "This notebook explains all the different steps of the example pipeline located in app_template/pipeline/app_pipeline.py."
   ]
  },
  {
   "cell_type": "markdown",
   "metadata": {},
   "source": [
    "It shows how the pipeline involves all the modules of the application."
   ]
  },
  {
   "cell_type": "markdown",
   "metadata": {},
   "source": [
    "### Imports"
   ]
  },
  {
   "cell_type": "code",
   "execution_count": 1,
   "metadata": {
    "ExecuteTime": {
     "end_time": "2021-09-03T14:31:46.301853Z",
     "start_time": "2021-09-03T14:31:45.316262Z"
    }
   },
   "outputs": [],
   "source": [
    "%load_ext autoreload\n",
    "%autoreload 2\n",
    "import os\n",
    "import datetime\n",
    "import pandas as pd\n",
    "pd.set_option(\"display.max_rows\", 500)\n",
    "pd.set_option(\"display.max_columns\", 100)\n",
    "\n",
    "from app_template.configuration import app, data, mail, spark_config\n",
    "from app_template.infra.oracle_database import OracleDatabase\n",
    "from app_template.infra.repositories import flow_repository\n",
    "from app_template.domain import kpi\n",
    "from app_template.interface import notification\n",
    "from app_template.utils import system"
   ]
  },
  {
   "cell_type": "markdown",
   "metadata": {},
   "source": [
    "### Configuration: Application configuration"
   ]
  },
  {
   "cell_type": "code",
   "execution_count": 2,
   "metadata": {
    "ExecuteTime": {
     "end_time": "2021-09-03T14:31:46.333949Z",
     "start_time": "2021-09-03T14:31:46.305073Z"
    }
   },
   "outputs": [],
   "source": [
    "# Pipeline start\n",
    "dt_start = datetime.datetime.now()"
   ]
  },
  {
   "cell_type": "code",
   "execution_count": 3,
   "metadata": {
    "ExecuteTime": {
     "end_time": "2021-09-03T14:31:46.397506Z",
     "start_time": "2021-09-03T14:31:46.336005Z"
    }
   },
   "outputs": [
    {
     "data": {
      "text/plain": [
       "{'flow': {'input_dirpath': '/user/brc05/data/refined/manf001_vehc_prdc_flow/year=2021/month=01',\n",
       "  'output_filename': 'production_details',\n",
       "  'perimeter': {'site_code': ['PY'],\n",
       "   'genr_door': 'SMON',\n",
       "   'start_date': '2021-01-18',\n",
       "   'end_date': '2021-01-21'},\n",
       "  'columns': ['site_code', 'faml_grp_labl', 'vin', 'pass_date']},\n",
       " 'kpis': {'table_name': 'app00_prdc_kpis'}}"
      ]
     },
     "execution_count": 3,
     "metadata": {},
     "output_type": "execute_result"
    }
   ],
   "source": [
    "# Retrieve information from the configuration files located in app_tempate/configuration/resources directory\n",
    "data_config = data.DataConfig()\n",
    "\n",
    "data_config.infra_config"
   ]
  },
  {
   "cell_type": "code",
   "execution_count": 4,
   "metadata": {
    "ExecuteTime": {
     "end_time": "2021-09-03T14:31:18.177700Z",
     "start_time": "2021-09-03T14:31:18.116016Z"
    }
   },
   "outputs": [],
   "source": [
    "# Mailer class to send emails\n",
    "mailer = mail.Mailer()"
   ]
  },
  {
   "cell_type": "code",
   "execution_count": 7,
   "metadata": {
    "ExecuteTime": {
     "end_time": "2021-09-03T14:31:39.499542Z",
     "start_time": "2021-09-03T14:31:39.439005Z"
    }
   },
   "outputs": [],
   "source": [
    "# Instantiate Spark session\n",
    "_, spark_session = spark_config.get_spark(\n",
    "    app_name=\"[app00] Test_App_Template\",\n",
    "    driver_cores=1,\n",
    "    driver_mem=\"4g\",\n",
    "    max_executors=8,\n",
    "    executor_cores=4,\n",
    "    executor_mem=\"4g\"\n",
    ")"
   ]
  },
  {
   "cell_type": "markdown",
   "metadata": {},
   "source": [
    "### Infra: Connection to the database to read the application input"
   ]
  },
  {
   "cell_type": "code",
   "execution_count": null,
   "metadata": {
    "ExecuteTime": {
     "start_time": "2021-09-03T14:26:45.893Z"
    }
   },
   "outputs": [],
   "source": [
    "# Create temp dirpath\n",
    "TEMP_DIRPATH = os.path.join(os.environ[\"UNXDATA\"], \"temp\")\n",
    "if not os.path.exists(TEMP_DIRPATH):\n",
    "    os.makedirs(TEMP_DIRPATH)\n",
    "    \n",
    "# Flow repository: production flow data collection\n",
    "flow_repo = flow_repository.FlowRepository(spark_session, TEMP_DIRPATH)"
   ]
  },
  {
   "cell_type": "code",
   "execution_count": null,
   "metadata": {
    "ExecuteTime": {
     "start_time": "2021-09-03T14:26:46.230Z"
    }
   },
   "outputs": [],
   "source": [
    "# Read data according to DataConfig\n",
    "flow_repo.read(preprocessing=True)\n",
    "\n",
    "flow_repo.df.limit(5).toPandas()"
   ]
  },
  {
   "cell_type": "code",
   "execution_count": null,
   "metadata": {
    "ExecuteTime": {
     "start_time": "2021-09-03T14:26:46.648Z"
    }
   },
   "outputs": [],
   "source": [
    "# Write data according to DataConfig\n",
    "flow_repo.write()"
   ]
  },
  {
   "cell_type": "markdown",
   "metadata": {},
   "source": [
    "### Domain: Business modelisation"
   ]
  },
  {
   "cell_type": "code",
   "execution_count": 9,
   "metadata": {
    "ExecuteTime": {
     "end_time": "2021-09-03T14:25:26.064483Z",
     "start_time": "2021-09-03T14:25:26.035199Z"
    }
   },
   "outputs": [],
   "source": [
    "# Instantiate execution KPIs\n",
    "execution_kpis = {}"
   ]
  },
  {
   "cell_type": "code",
   "execution_count": 10,
   "metadata": {
    "ExecuteTime": {
     "end_time": "2021-09-03T14:25:28.693985Z",
     "start_time": "2021-09-03T14:25:26.066604Z"
    }
   },
   "outputs": [
    {
     "data": {
      "text/html": [
       "<div>\n",
       "<style scoped>\n",
       "    .dataframe tbody tr th:only-of-type {\n",
       "        vertical-align: middle;\n",
       "    }\n",
       "\n",
       "    .dataframe tbody tr th {\n",
       "        vertical-align: top;\n",
       "    }\n",
       "\n",
       "    .dataframe thead th {\n",
       "        text-align: right;\n",
       "    }\n",
       "</style>\n",
       "<table border=\"1\" class=\"dataframe\">\n",
       "  <thead>\n",
       "    <tr style=\"text-align: right;\">\n",
       "      <th></th>\n",
       "      <th>site_code</th>\n",
       "      <th>faml_grp_labl</th>\n",
       "      <th>smon_date</th>\n",
       "      <th>n_vin</th>\n",
       "    </tr>\n",
       "  </thead>\n",
       "  <tbody>\n",
       "    <tr>\n",
       "      <th>0</th>\n",
       "      <td>PY</td>\n",
       "      <td>P2QO-BEV</td>\n",
       "      <td>2021-01-18</td>\n",
       "      <td>9</td>\n",
       "    </tr>\n",
       "    <tr>\n",
       "      <th>1</th>\n",
       "      <td>PY</td>\n",
       "      <td>P2QO-BEV</td>\n",
       "      <td>2021-01-19</td>\n",
       "      <td>8</td>\n",
       "    </tr>\n",
       "    <tr>\n",
       "      <th>2</th>\n",
       "      <td>PY</td>\n",
       "      <td>P2QO-BEV</td>\n",
       "      <td>2021-01-20</td>\n",
       "      <td>16</td>\n",
       "    </tr>\n",
       "    <tr>\n",
       "      <th>3</th>\n",
       "      <td>PY</td>\n",
       "      <td>P2QO-TH</td>\n",
       "      <td>2021-01-18</td>\n",
       "      <td>26</td>\n",
       "    </tr>\n",
       "    <tr>\n",
       "      <th>4</th>\n",
       "      <td>PY</td>\n",
       "      <td>P2QO-TH</td>\n",
       "      <td>2021-01-19</td>\n",
       "      <td>43</td>\n",
       "    </tr>\n",
       "  </tbody>\n",
       "</table>\n",
       "</div>"
      ],
      "text/plain": [
       "  site_code faml_grp_labl   smon_date  n_vin\n",
       "0        PY      P2QO-BEV  2021-01-18      9\n",
       "1        PY      P2QO-BEV  2021-01-19      8\n",
       "2        PY      P2QO-BEV  2021-01-20     16\n",
       "3        PY       P2QO-TH  2021-01-18     26\n",
       "4        PY       P2QO-TH  2021-01-19     43"
      ]
     },
     "execution_count": 10,
     "metadata": {},
     "output_type": "execute_result"
    }
   ],
   "source": [
    "# Compute production KPIs\n",
    "kpis_production = kpi.compute_n_vins(\n",
    "    flow_repo.df, [\"site_code\", \"faml_grp_labl\", \"smon_date\"]\n",
    ")\n",
    "\n",
    "kpis_production.head(5)"
   ]
  },
  {
   "cell_type": "code",
   "execution_count": 11,
   "metadata": {
    "ExecuteTime": {
     "end_time": "2021-09-03T14:25:28.726076Z",
     "start_time": "2021-09-03T14:25:28.696223Z"
    }
   },
   "outputs": [],
   "source": [
    "execution_kpis[\"Total number of vehicles produced\"] = kpis_production['n_vin'].sum()"
   ]
  },
  {
   "cell_type": "code",
   "execution_count": 12,
   "metadata": {
    "ExecuteTime": {
     "end_time": "2021-09-03T14:25:28.768158Z",
     "start_time": "2021-09-03T14:25:28.729374Z"
    }
   },
   "outputs": [],
   "source": [
    "# Format date\n",
    "kpis_production[\"smon_date\"] = pd.to_datetime(\n",
    "    kpis_production[\"smon_date\"],\n",
    "    format=\"%Y-%m-%d\"\n",
    ")"
   ]
  },
  {
   "cell_type": "markdown",
   "metadata": {},
   "source": [
    "### Infra: Connection to the database to write the application output"
   ]
  },
  {
   "cell_type": "code",
   "execution_count": 13,
   "metadata": {
    "ExecuteTime": {
     "end_time": "2021-09-03T14:25:28.829640Z",
     "start_time": "2021-09-03T14:25:28.770628Z"
    }
   },
   "outputs": [],
   "source": [
    "# OracleDatabase\n",
    "oracle_db = OracleDatabase(\"cx_oracle\")"
   ]
  },
  {
   "cell_type": "code",
   "execution_count": 14,
   "metadata": {
    "ExecuteTime": {
     "end_time": "2021-09-03T14:25:30.282916Z",
     "start_time": "2021-09-03T14:25:28.831609Z"
    }
   },
   "outputs": [],
   "source": [
    "# Write df to Oracle\n",
    "kpis_table_name = data_config.infra_config[\"kpis\"][\"table_name\"]\n",
    "oracle_db.write_df_to_oracle(\n",
    "    kpis_production,\n",
    "    kpis_table_name,\n",
    "    mode=\"overwrite\"\n",
    ")"
   ]
  },
  {
   "cell_type": "markdown",
   "metadata": {},
   "source": [
    "### Interface: Send an execution email"
   ]
  },
  {
   "cell_type": "code",
   "execution_count": 15,
   "metadata": {
    "ExecuteTime": {
     "end_time": "2021-09-03T14:25:30.646053Z",
     "start_time": "2021-09-03T14:25:30.285483Z"
    }
   },
   "outputs": [],
   "source": [
    "notification.send_email(\n",
    "    mailer,\n",
    "    \"success\",\n",
    "    kpis_table_name=kpis_table_name,\n",
    "    execution_kpis=execution_kpis\n",
    ")"
   ]
  }
 ],
 "metadata": {
  "hide_input": false,
  "kernelspec": {
   "display_name": "Python 3",
   "language": "python",
   "name": "python3"
  },
  "language_info": {
   "codemirror_mode": {
    "name": "ipython",
    "version": 3
   },
   "file_extension": ".py",
   "mimetype": "text/x-python",
   "name": "python",
   "nbconvert_exporter": "python",
   "pygments_lexer": "ipython3",
   "version": "3.6.4"
  },
  "toc": {
   "base_numbering": 1,
   "nav_menu": {},
   "number_sections": true,
   "sideBar": true,
   "skip_h1_title": false,
   "title_cell": "Table of Contents",
   "title_sidebar": "Contents",
   "toc_cell": false,
   "toc_position": {
    "height": "calc(100% - 180px)",
    "left": "10px",
    "top": "150px",
    "width": "355.547px"
   },
   "toc_section_display": true,
   "toc_window_display": true
  }
 },
 "nbformat": 4,
 "nbformat_minor": 2
}
