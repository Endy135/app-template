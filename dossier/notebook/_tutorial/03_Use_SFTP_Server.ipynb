{
 "cells": [
  {
   "cell_type": "markdown",
   "id": "3fa8689d",
   "metadata": {},
   "source": [
    "<img src=\"_media/logo_stellantis.png\" width=\"300\">\n",
    "\n",
    "<font size=\"+3\"><b><center>Tutorial 03: Use SFTP Server</center></b></font>"
   ]
  },
  {
   "cell_type": "markdown",
   "id": "62cb0795",
   "metadata": {},
   "source": [
    "This notebook explains how to download/upload files using a sftp server.\n",
    "\n",
    "**Make sure you have created the *application.yml* file in the *conf* directory and filled in the *sftp* section (see this [section](https://github.psa-cloud.com/brc14/app00#user-specific-settings) of the *README* for more information)**"
   ]
  },
  {
   "cell_type": "markdown",
   "id": "e7323926",
   "metadata": {},
   "source": [
    "### Import"
   ]
  },
  {
   "cell_type": "code",
   "execution_count": 1,
   "id": "0750d5ee",
   "metadata": {},
   "outputs": [
    {
     "name": "stderr",
     "output_type": "stream",
     "text": [
      "/gpfs/user/sc24609/brc14/app00/.venv3/lib/python3.6/site-packages/pysftp/__init__.py:61: UserWarning: Failed to load HostKeys from /gpfs/user/sc24609/.ssh/known_hosts.  You will need to explicitly load HostKeys (cnopts.hostkeys.load(filename)) or disableHostKey checking (cnopts.hostkeys = None).\n",
      "  warnings.warn(wmsg, UserWarning)\n"
     ]
    }
   ],
   "source": [
    "%load_ext autoreload\n",
    "%autoreload 2\n",
    "import os\n",
    "import shutil\n",
    "import datetime\n",
    "import pandas as pd\n",
    "pd.set_option(\"display.max_rows\", 500)\n",
    "pd.set_option(\"display.max_columns\", 100)\n",
    "from random import choices\n",
    "from app_template.infra.sftp import SftpClient"
   ]
  },
  {
   "cell_type": "markdown",
   "id": "a67cd485",
   "metadata": {},
   "source": [
    "### Instantiate SftpClient object\n",
    "\n",
    "When you create an instance of the SftpClient class, a sub-directory is created in the data directory.\n",
    "\n",
    "This subdirectory serves as a transition directory for the files that you download from the sftp server or upload to the server."
   ]
  },
  {
   "cell_type": "code",
   "execution_count": 2,
   "id": "40167be7",
   "metadata": {},
   "outputs": [
    {
     "name": "stdout",
     "output_type": "stream",
     "text": [
      "Before creating an instance\n",
      "['sftp']\n",
      "After creating an instance\n",
      "['sftp']\n"
     ]
    }
   ],
   "source": [
    "if \"data\" in os.listdir(\"../../\"):\n",
    "    print(\"Before creating an instance\")\n",
    "    print(os.listdir(\"../../data\"))\n",
    "sftp_servers = SftpClient(local_dirname=\"sftp\")\n",
    "print(\"After creating an instance\")\n",
    "print(os.listdir(\"../../data\"))"
   ]
  },
  {
   "cell_type": "code",
   "execution_count": 3,
   "id": "16646907",
   "metadata": {},
   "outputs": [
    {
     "name": "stdout",
     "output_type": "stream",
     "text": [
      "List of Sftp servers names: ['filebox_sftp', 'opv_ac_sftp']\n",
      "Local directory for sftp files: /gpfs/user/sc24609/brc14/app00/data/sftp\n",
      "Last files downloaded: []\n"
     ]
    }
   ],
   "source": [
    "#instance attributes\n",
    "print(f\"List of Sftp servers names: {sftp_servers.server_names}\")\n",
    "print(f\"Local directory for sftp files: {sftp_servers.local_dirpath}\")\n",
    "print(f\"Last files downloaded: {sftp_servers.last_downloaded_filenames}\")"
   ]
  },
  {
   "cell_type": "markdown",
   "id": "1527340f",
   "metadata": {},
   "source": [
    "### Upload files to sftp server"
   ]
  },
  {
   "cell_type": "markdown",
   "id": "bb9bc000",
   "metadata": {},
   "source": [
    "#### Create data for exemple"
   ]
  },
  {
   "cell_type": "code",
   "execution_count": 4,
   "id": "4fcec805",
   "metadata": {},
   "outputs": [
    {
     "data": {
      "text/html": [
       "<div>\n",
       "<style scoped>\n",
       "    .dataframe tbody tr th:only-of-type {\n",
       "        vertical-align: middle;\n",
       "    }\n",
       "\n",
       "    .dataframe tbody tr th {\n",
       "        vertical-align: top;\n",
       "    }\n",
       "\n",
       "    .dataframe thead th {\n",
       "        text-align: right;\n",
       "    }\n",
       "</style>\n",
       "<table border=\"1\" class=\"dataframe\">\n",
       "  <thead>\n",
       "    <tr style=\"text-align: right;\">\n",
       "      <th></th>\n",
       "      <th>vin</th>\n",
       "      <th>brand</th>\n",
       "      <th>col</th>\n",
       "      <th>odometer</th>\n",
       "    </tr>\n",
       "  </thead>\n",
       "  <tbody>\n",
       "    <tr>\n",
       "      <th>0</th>\n",
       "      <td>0</td>\n",
       "      <td>citroen</td>\n",
       "      <td>green</td>\n",
       "      <td>905</td>\n",
       "    </tr>\n",
       "    <tr>\n",
       "      <th>1</th>\n",
       "      <td>1</td>\n",
       "      <td>fiat</td>\n",
       "      <td>green</td>\n",
       "      <td>10046</td>\n",
       "    </tr>\n",
       "    <tr>\n",
       "      <th>2</th>\n",
       "      <td>2</td>\n",
       "      <td>peugeot</td>\n",
       "      <td>green</td>\n",
       "      <td>18827</td>\n",
       "    </tr>\n",
       "    <tr>\n",
       "      <th>3</th>\n",
       "      <td>3</td>\n",
       "      <td>fiat</td>\n",
       "      <td>green</td>\n",
       "      <td>8318</td>\n",
       "    </tr>\n",
       "    <tr>\n",
       "      <th>4</th>\n",
       "      <td>4</td>\n",
       "      <td>opel</td>\n",
       "      <td>black</td>\n",
       "      <td>17037</td>\n",
       "    </tr>\n",
       "  </tbody>\n",
       "</table>\n",
       "</div>"
      ],
      "text/plain": [
       "   vin    brand    col  odometer\n",
       "0    0  citroen  green       905\n",
       "1    1     fiat  green     10046\n",
       "2    2  peugeot  green     18827\n",
       "3    3     fiat  green      8318\n",
       "4    4     opel  black     17037"
      ]
     },
     "execution_count": 4,
     "metadata": {},
     "output_type": "execute_result"
    }
   ],
   "source": [
    "# Generate sample data\n",
    "veh = pd.DataFrame([i for i in range(200)],columns=['vin'])\n",
    "veh[\"brand\"] = choices([\"peugeot\",\"opel\",\"citroen\",\"fiat\"], k=200)\n",
    "veh[\"col\"] = choices([\"green\",\"black\",\"white\",\"red\"], k=200)\n",
    "veh[\"odometer\"] = choices(range(20000), k=200)\n",
    "veh.head(5)"
   ]
  },
  {
   "cell_type": "code",
   "execution_count": 5,
   "id": "fa7f0446",
   "metadata": {},
   "outputs": [],
   "source": [
    "#Write data locally\n",
    "now = datetime.datetime.now()\n",
    "ts = f\"{now.year}{now.month:02}{now.day:02}\"\n",
    "for brand in [\"peugeot\",\"opel\",\"citroen\",\"fiat\"]:\n",
    "    veh[veh[\"brand\"] == brand].to_csv(os.path.join(sftp_servers.local_dirpath,f\"{brand}_{ts}.csv\"))"
   ]
  },
  {
   "cell_type": "markdown",
   "id": "2a235eca",
   "metadata": {},
   "source": [
    "#### Upload multiple files"
   ]
  },
  {
   "cell_type": "code",
   "execution_count": 6,
   "id": "bd010431",
   "metadata": {},
   "outputs": [
    {
     "name": "stdout",
     "output_type": "stream",
     "text": [
      "Content in sftp server before uploading: \n",
      "\n",
      "{}\n",
      "\n",
      "----------------------------------------------\n",
      "\n",
      "Content in sftp server after uploading: \n",
      "\n",
      "{'citroen_20210628.csv': {'lm_date': datetime.datetime(2021, 6, 28, 15, 8, 14), 'is_directory': False}, 'peugeot_20210628.csv': {'lm_date': datetime.datetime(2021, 6, 28, 15, 8, 13), 'is_directory': False}}\n"
     ]
    }
   ],
   "source": [
    "#Upload multiple files\n",
    "\n",
    "print(\"Content in sftp server before uploading: \\n\")\n",
    "print(sftp_servers.server_listdir(server_name='filebox_sftp',\n",
    "                                server_dirpath=\"/\",\n",
    "                                sort=True)\n",
    "     )\n",
    "print(\"\\n----------------------------------------------\\n\")\n",
    "\n",
    "sftp_servers.upload_files(server_name='filebox_sftp', \n",
    "                    filenames=[f\"peugeot_{ts}.csv\",f\"citroen_{ts}.csv\"],\n",
    "                    server_dirpath=\"/\",\n",
    "                    overwrite=True)\n",
    "\n",
    "print(\"Content in sftp server after uploading: \\n\")\n",
    "print(sftp_servers.server_listdir(server_name='filebox_sftp',\n",
    "                                server_dirpath=\"/\",\n",
    "                                sort=True)\n",
    "     )"
   ]
  },
  {
   "cell_type": "markdown",
   "id": "cba15e9e",
   "metadata": {},
   "source": [
    "#### Upload file and create folder "
   ]
  },
  {
   "cell_type": "code",
   "execution_count": 7,
   "id": "3dd84e29",
   "metadata": {},
   "outputs": [
    {
     "name": "stdout",
     "output_type": "stream",
     "text": [
      "Content in sftp server before uploading: \n",
      "\n",
      "{'citroen_20210628.csv': {'lm_date': datetime.datetime(2021, 6, 28, 15, 8, 14), 'is_directory': False}, 'peugeot_20210628.csv': {'lm_date': datetime.datetime(2021, 6, 28, 15, 8, 13), 'is_directory': False}}\n",
      "\n",
      "----------------------------------------------\n",
      "\n",
      "Content in sftp server after uploading: \n",
      "\n",
      "{'FCA': {'lm_date': datetime.datetime(2021, 6, 28, 15, 8, 16), 'is_directory': True}, 'citroen_20210628.csv': {'lm_date': datetime.datetime(2021, 6, 28, 15, 8, 14), 'is_directory': False}, 'peugeot_20210628.csv': {'lm_date': datetime.datetime(2021, 6, 28, 15, 8, 13), 'is_directory': False}}\n",
      "\n",
      "----------------------------------------------\n",
      "\n",
      "Content in the new folder in sftp server: \n",
      "\n",
      "{'fiat_20210628.csv': {'lm_date': datetime.datetime(2021, 6, 28, 15, 8, 16), 'is_directory': False}}\n"
     ]
    }
   ],
   "source": [
    "#Upload file and create folder \n",
    "print(\"Content in sftp server before uploading: \\n\")\n",
    "print(sftp_servers.server_listdir(server_name='filebox_sftp',\n",
    "                                server_dirpath=\"/\",\n",
    "                                sort=True)\n",
    "     )\n",
    "print(\"\\n----------------------------------------------\\n\")\n",
    "sftp_servers.upload_files(server_name='filebox_sftp', \n",
    "                    filenames=f\"fiat_{ts}.csv\",\n",
    "                    server_dirpath=\"/FCA\",\n",
    "                    overwrite=True)\n",
    "\n",
    "print(\"Content in sftp server after uploading: \\n\")\n",
    "print(sftp_servers.server_listdir(server_name='filebox_sftp',\n",
    "                                server_dirpath=\"/\",\n",
    "                                sort=True)\n",
    "     )\n",
    "print(\"\\n----------------------------------------------\\n\")\n",
    "\n",
    "print(\"Content in the new folder in sftp server: \\n\")\n",
    "print(sftp_servers.server_listdir(server_name='filebox_sftp',\n",
    "                                server_dirpath=\"/FCA\",\n",
    "                                sort=True)\n",
    "     )"
   ]
  },
  {
   "cell_type": "markdown",
   "id": "606f955b",
   "metadata": {},
   "source": [
    "### Download files from sftp server"
   ]
  },
  {
   "cell_type": "markdown",
   "id": "e6a23970",
   "metadata": {},
   "source": [
    "#### Clean local directory"
   ]
  },
  {
   "cell_type": "code",
   "execution_count": 8,
   "id": "d3cf82dc",
   "metadata": {},
   "outputs": [
    {
     "name": "stdout",
     "output_type": "stream",
     "text": [
      "Content in local directory: \n",
      "\n",
      "[]\n"
     ]
    }
   ],
   "source": [
    "#Remove all files in local directory\n",
    "def clean_local():\n",
    "    for file in os.listdir(sftp_servers.local_dirpath):\n",
    "        path = os.path.join(sftp_servers.local_dirpath,file)\n",
    "        if os.path.isdir(path):\n",
    "            shutil.rmtree(path)\n",
    "        else:\n",
    "            os.remove(path)\n",
    "\n",
    "clean_local()\n",
    "print(\"Content in local directory: \\n\")\n",
    "print(os.listdir(sftp_servers.local_dirpath))"
   ]
  },
  {
   "cell_type": "markdown",
   "id": "0d17bb9b",
   "metadata": {},
   "source": [
    "#### Download a specific file"
   ]
  },
  {
   "cell_type": "code",
   "execution_count": 9,
   "id": "b2bb0770",
   "metadata": {},
   "outputs": [
    {
     "name": "stdout",
     "output_type": "stream",
     "text": [
      "Local directory content: \n",
      "\n",
      "['fiat_20210628.csv']\n",
      "\n",
      " Last downloaded files:  ['fiat_20210628.csv']\n"
     ]
    }
   ],
   "source": [
    "sftp_servers.download_files(\n",
    "    server_name='filebox_sftp',\n",
    "    server_dirpath=\"/FCA\",\n",
    "    filename_patterns=f\"fiat_{ts}.csv\",\n",
    "    keep_only_last=True,\n",
    "    overwrite=True\n",
    ")\n",
    "\n",
    "print(\"Local directory content: \\n\")\n",
    "print(os.listdir(sftp_servers.local_dirpath))\n",
    "print(\"\\n Last downloaded files: \",sftp_servers.last_downloaded_filenames)\n",
    "\n",
    "clean_local()"
   ]
  },
  {
   "cell_type": "markdown",
   "id": "9eb93b26",
   "metadata": {},
   "source": [
    "#### Download all files in a directory"
   ]
  },
  {
   "cell_type": "code",
   "execution_count": 10,
   "id": "58b68400",
   "metadata": {},
   "outputs": [
    {
     "name": "stdout",
     "output_type": "stream",
     "text": [
      "Local directory content: \n",
      "\n",
      "['citroen_20210628.csv', 'peugeot_20210628.csv']\n",
      "\n",
      " Last downloaded files:  ['citroen_20210628.csv', 'peugeot_20210628.csv']\n"
     ]
    }
   ],
   "source": [
    "# Download all files using filename_patterns=None\n",
    "sftp_servers.download_files(\n",
    "    server_name='filebox_sftp',\n",
    "    server_dirpath=\"/\",\n",
    "    filename_patterns=None,\n",
    "    keep_only_last=False,\n",
    "    overwrite=True\n",
    ")\n",
    "\n",
    "print(\"Local directory content: \\n\")\n",
    "print(os.listdir(sftp_servers.local_dirpath))\n",
    "print(\"\\n Last downloaded files: \",sftp_servers.last_downloaded_filenames)\n",
    "\n",
    "clean_local()"
   ]
  },
  {
   "cell_type": "markdown",
   "id": "54c6417c",
   "metadata": {},
   "source": [
    "#### Download using pattern"
   ]
  },
  {
   "cell_type": "code",
   "execution_count": 11,
   "id": "77003a73",
   "metadata": {},
   "outputs": [
    {
     "name": "stdout",
     "output_type": "stream",
     "text": [
      "Local directory content: \n",
      "\n",
      "['citroen_20210628.csv', 'peugeot_20210628.csv']\n",
      "\n",
      " Last downloaded files:  ['citroen_20210628.csv', 'peugeot_20210628.csv']\n"
     ]
    }
   ],
   "source": [
    "# Download all files using regex pattern\n",
    "sftp_servers.download_files(\n",
    "    server_name='filebox_sftp',\n",
    "    server_dirpath=\"/\",\n",
    "    filename_patterns='[a-z]*_[0-9]*.csv',\n",
    "    keep_only_last=False,\n",
    "    overwrite=True\n",
    ")\n",
    "\n",
    "print(\"Local directory content: \\n\")\n",
    "print(os.listdir(sftp_servers.local_dirpath))\n",
    "print(\"\\n Last downloaded files: \",sftp_servers.last_downloaded_filenames)\n",
    "\n",
    "clean_local()"
   ]
  },
  {
   "cell_type": "markdown",
   "id": "8f0d6795",
   "metadata": {},
   "source": [
    "#### Download last modified file"
   ]
  },
  {
   "cell_type": "code",
   "execution_count": 12,
   "id": "50da8ba1",
   "metadata": {},
   "outputs": [
    {
     "name": "stdout",
     "output_type": "stream",
     "text": [
      "Local directory content: \n",
      "\n",
      "['citroen_20210628.csv']\n",
      "\n",
      " Last downloaded files:  ['citroen_20210628.csv']\n"
     ]
    }
   ],
   "source": [
    "# Download last modified file using keep_only_last_file=True\n",
    "sftp_servers.download_files(\n",
    "    server_name='filebox_sftp',\n",
    "    server_dirpath=\"/\",\n",
    "    filename_patterns='[a-z]*_[0-9]*.csv',\n",
    "    keep_only_last=True,\n",
    "    overwrite=True\n",
    ")\n",
    "\n",
    "print(\"Local directory content: \\n\")\n",
    "print(os.listdir(sftp_servers.local_dirpath))\n",
    "print(\"\\n Last downloaded files: \",sftp_servers.last_downloaded_filenames)\n",
    "\n",
    "clean_local()"
   ]
  }
 ],
 "metadata": {
  "hide_input": false,
  "kernelspec": {
   "display_name": "Python 3",
   "language": "python",
   "name": "python3"
  },
  "language_info": {
   "codemirror_mode": {
    "name": "ipython",
    "version": 3
   },
   "file_extension": ".py",
   "mimetype": "text/x-python",
   "name": "python",
   "nbconvert_exporter": "python",
   "pygments_lexer": "ipython3",
   "version": "3.6.4"
  },
  "toc": {
   "base_numbering": 1,
   "nav_menu": {},
   "number_sections": true,
   "sideBar": true,
   "skip_h1_title": false,
   "title_cell": "Table of Contents",
   "title_sidebar": "Contents",
   "toc_cell": false,
   "toc_position": {},
   "toc_section_display": true,
   "toc_window_display": true
  }
 },
 "nbformat": 4,
 "nbformat_minor": 5
}
